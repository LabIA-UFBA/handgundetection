{
 "cells": [
  {
   "cell_type": "code",
   "execution_count": null,
   "metadata": {},
   "outputs": [],
   "source": [
    "from models import BaseModel, WeDePe, AdaptedWeDePe"
   ]
  },
  {
   "cell_type": "code",
   "execution_count": null,
   "metadata": {},
   "outputs": [],
   "source": [
    "DETECTION_MODEL = 'weights/yolo11n_handgun.pt'\n",
    "POSE_MODEL = 'weights/yolo11m-pose.pt'\n",
    "\n",
    "DATASET = 'dataset'\n",
    "CONF = 0.39\n",
    "IOU_THR = 0.3"
   ]
  },
  {
   "cell_type": "code",
   "execution_count": null,
   "metadata": {},
   "outputs": [],
   "source": [
    "yolo_model = BaseModel(DETECTION_MODEL)\n",
    "wedepe_model = WeDePe(DETECTION_MODEL, POSE_MODEL)\n",
    "adapted_wedepe_model = AdaptedWeDePe(DETECTION_MODEL, POSE_MODEL)"
   ]
  },
  {
   "cell_type": "code",
   "execution_count": null,
   "metadata": {},
   "outputs": [],
   "source": [
    "yolo_model.val(DATASET, CONF, IOU_THR)"
   ]
  },
  {
   "cell_type": "code",
   "execution_count": null,
   "metadata": {},
   "outputs": [],
   "source": [
    "wedepe_model.val(DATASET, CONF, IOU_THR)"
   ]
  },
  {
   "cell_type": "code",
   "execution_count": null,
   "metadata": {},
   "outputs": [],
   "source": [
    "adapted_wedepe_model.val(DATASET, CONF, IOU_THR)"
   ]
  }
 ],
 "metadata": {
  "kernelspec": {
   "display_name": "vision",
   "language": "python",
   "name": "python3"
  },
  "language_info": {
   "codemirror_mode": {
    "name": "ipython",
    "version": 3
   },
   "file_extension": ".py",
   "mimetype": "text/x-python",
   "name": "python",
   "nbconvert_exporter": "python",
   "pygments_lexer": "ipython3",
   "version": "3.12.11"
  }
 },
 "nbformat": 4,
 "nbformat_minor": 2
}
